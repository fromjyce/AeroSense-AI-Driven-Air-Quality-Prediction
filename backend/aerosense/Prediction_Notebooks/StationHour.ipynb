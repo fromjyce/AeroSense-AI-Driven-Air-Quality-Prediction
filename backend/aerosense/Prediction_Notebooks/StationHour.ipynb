{
  "cells": [
    {
      "cell_type": "code",
      "execution_count": 1,
      "metadata": {
        "id": "WR-gW4XOE0CS"
      },
      "outputs": [],
      "source": [
        "import pandas as pd\n",
        "import numpy as np\n",
        "from sklearn.preprocessing import MinMaxScaler, OneHotEncoder\n",
        "from sklearn.compose import ColumnTransformer\n",
        "from sklearn.model_selection import train_test_split\n",
        "from tensorflow.keras.models import Sequential\n",
        "from tensorflow.keras.layers import LSTM, Dense, Input, Concatenate\n",
        "from tensorflow.keras.models import Model\n",
        "import matplotlib.pyplot as plt"
      ]
    },
    {
      "cell_type": "code",
      "execution_count": 2,
      "metadata": {
        "id": "e8qmbJ8zFGoA"
      },
      "outputs": [
        {
          "name": "stderr",
          "output_type": "stream",
          "text": [
            "C:\\Users\\Padmajaa\\AppData\\Local\\Temp\\ipykernel_17396\\895904775.py:1: DtypeWarning: Columns (15) have mixed types. Specify dtype option on import or set low_memory=False.\n",
            "  df = pd.read_csv(r\"C:\\Users\\Padmajaa\\OneDrive - SSN Trust\\IIT KANPUR\\ds\\station_hour.csv\")\n"
          ]
        }
      ],
      "source": [
        "df = pd.read_csv(r\"ds\\station_hour.csv\")\n",
        "df['Datetime'] = pd.to_datetime(df['Datetime'])"
      ]
    },
    {
      "cell_type": "code",
      "execution_count": 3,
      "metadata": {
        "id": "OuNGD_igFJi6"
      },
      "outputs": [],
      "source": [
        "df['Month'] = df['Datetime'].dt.month\n",
        "df['Year'] = df['Datetime'].dt.year\n",
        "df['Hour'] = df['Datetime'].dt.hour\n",
        "df['Minute'] = df['Datetime'].dt.minute"
      ]
    },
    {
      "cell_type": "code",
      "execution_count": 4,
      "metadata": {
        "colab": {
          "base_uri": "https://localhost:8080/"
        },
        "id": "0n5LWbTVFLYB",
        "outputId": "eadb11b2-ac53-4316-c196-f626d3c2d4be"
      },
      "outputs": [
        {
          "name": "stdout",
          "output_type": "stream",
          "text": [
            "<class 'pandas.core.frame.DataFrame'>\n",
            "RangeIndex: 2589083 entries, 0 to 2589082\n",
            "Data columns (total 20 columns):\n",
            " #   Column      Dtype         \n",
            "---  ------      -----         \n",
            " 0   StationId   object        \n",
            " 1   Datetime    datetime64[ns]\n",
            " 2   PM2.5       float64       \n",
            " 3   PM10        float64       \n",
            " 4   NO          float64       \n",
            " 5   NO2         float64       \n",
            " 6   NOx         float64       \n",
            " 7   NH3         float64       \n",
            " 8   CO          float64       \n",
            " 9   SO2         float64       \n",
            " 10  O3          float64       \n",
            " 11  Benzene     float64       \n",
            " 12  Toluene     float64       \n",
            " 13  Xylene      float64       \n",
            " 14  AQI         float64       \n",
            " 15  AQI_Bucket  object        \n",
            " 16  Month       int32         \n",
            " 17  Year        int32         \n",
            " 18  Hour        int32         \n",
            " 19  Minute      int32         \n",
            "dtypes: datetime64[ns](1), float64(13), int32(4), object(2)\n",
            "memory usage: 355.6+ MB\n"
          ]
        }
      ],
      "source": [
        "df.info()"
      ]
    },
    {
      "cell_type": "code",
      "execution_count": 5,
      "metadata": {
        "colab": {
          "base_uri": "https://localhost:8080/"
        },
        "id": "G1hQdbx_FM8A",
        "outputId": "2075fdcf-cfd9-401c-f984-90c842a31937"
      },
      "outputs": [
        {
          "name": "stdout",
          "output_type": "stream",
          "text": [
            "StationId           0\n",
            "Datetime            0\n",
            "PM2.5          647689\n",
            "PM10          1119252\n",
            "NO             553711\n",
            "NO2            528973\n",
            "NOx            490808\n",
            "NH3           1236618\n",
            "CO             499302\n",
            "SO2            742737\n",
            "O3             725973\n",
            "Benzene        861579\n",
            "Toluene       1042366\n",
            "Xylene        2075104\n",
            "AQI            570190\n",
            "AQI_Bucket     570190\n",
            "Month               0\n",
            "Year                0\n",
            "Hour                0\n",
            "Minute              0\n",
            "dtype: int64\n"
          ]
        }
      ],
      "source": [
        "# Count null values in each column\n",
        "null_count = df.isnull().sum()\n",
        "print(null_count)\n"
      ]
    },
    {
      "cell_type": "code",
      "execution_count": 6,
      "metadata": {
        "id": "_001VjduFQY6"
      },
      "outputs": [],
      "source": [
        "df = df.drop(columns=[ 'NH3', 'Toluene', 'Xylene', 'AQI', 'AQI_Bucket'], axis=1)\n"
      ]
    },
    {
      "cell_type": "code",
      "execution_count": 7,
      "metadata": {
        "colab": {
          "base_uri": "https://localhost:8080/"
        },
        "id": "7e_bpMTeFR_t",
        "outputId": "7a040aa6-952b-481b-a989-6fbbe0e37ef7"
      },
      "outputs": [
        {
          "name": "stdout",
          "output_type": "stream",
          "text": [
            "  StationId            Datetime  PM2.5    PM10    NO    NO2    NOx   CO  \\\n",
            "0     AP001 2017-11-24 17:00:00  60.50   98.00  2.35  30.80  18.25  0.1   \n",
            "1     AP001 2017-11-24 18:00:00  65.50  111.25  2.70  24.20  15.07  0.1   \n",
            "2     AP001 2017-11-24 19:00:00  80.00  132.00  2.10  25.18  15.15  0.1   \n",
            "3     AP001 2017-11-24 20:00:00  81.50  133.25  1.95  16.25  10.23  0.1   \n",
            "4     AP001 2017-11-24 21:00:00  75.25  116.00  1.43  17.48  10.43  0.1   \n",
            "\n",
            "     SO2      O3  Benzene  Month  Year  Hour  Minute  \n",
            "0  11.85  126.40      0.1     11  2017    17       0  \n",
            "1  13.17  117.12      0.1     11  2017    18       0  \n",
            "2  12.08   98.98      0.2     11  2017    19       0  \n",
            "3  10.47  112.20      0.2     11  2017    20       0  \n",
            "4   9.12  106.35      0.2     11  2017    21       0  \n"
          ]
        }
      ],
      "source": [
        "# List of columns to fill NaN values\n",
        "columns_to_fill = ['PM2.5','PM10', 'NO', 'NO2', 'NOx', 'CO', 'SO2', 'O3', 'Benzene']\n",
        "\n",
        "# Fill NaN values for the specified columns without affecting the Date column\n",
        "df[columns_to_fill] = df[columns_to_fill].fillna(df[columns_to_fill].mean())\n",
        "\n",
        "# Ensure the Date column remains intact\n",
        "print(df.head())  # Check if Date column is still present\n"
      ]
    },
    {
      "cell_type": "code",
      "execution_count": 8,
      "metadata": {
        "id": "drffoNHqFT1F"
      },
      "outputs": [],
      "source": [
        "# Define features\n",
        "time_features = ['Month', 'Year', 'Hour', 'Minute']\n",
        "air_quality_features = ['PM2.5','PM10', 'NO', 'NO2', 'NOx', 'CO', 'SO2', 'O3', 'Benzene']\n",
        "\n"
      ]
    },
    {
      "cell_type": "code",
      "execution_count": 9,
      "metadata": {
        "id": "Km8Gv3BfFVlc"
      },
      "outputs": [],
      "source": [
        "# Prepare the preprocessing steps\n",
        "preprocessor = ColumnTransformer(\n",
        "    transformers=[\n",
        "        ('num', MinMaxScaler(), time_features + air_quality_features),\n",
        "        ('cat', OneHotEncoder(sparse_output=False, handle_unknown='ignore'), ['StationId']) # Change 'sparse' to 'sparse_output'\n",
        "    ])"
      ]
    },
    {
      "cell_type": "code",
      "execution_count": 10,
      "metadata": {
        "id": "PpzzwxCrFYYN"
      },
      "outputs": [],
      "source": [
        "# Fit the preprocessor and transform the data\n",
        "X = preprocessor.fit_transform(df)"
      ]
    },
    {
      "cell_type": "code",
      "execution_count": null,
      "metadata": {
        "id": "dNAVfx4QFZ3q"
      },
      "outputs": [],
      "source": [
        "# Prepare sequences\n",
        "def create_sequences(data, seq_length):\n",
        "    X, y = [], []\n",
        "    for i in range(len(data) - seq_length):\n",
        "        X.append(data[i:(i + seq_length)])\n",
        "        y.append(data[i + seq_length, -len(air_quality_features):])  # Only predict air quality features\n",
        "    return np.array(X), np.array(y)\n",
        "\n",
        "seq_length = 24  # Use 24 hours of data to predict the next hour\n",
        "X_seq, y_seq = create_sequences(X, seq_length)"
      ]
    },
    {
      "cell_type": "code",
      "execution_count": null,
      "metadata": {
        "id": "kGgKtZn4Fne8"
      },
      "outputs": [],
      "source": [
        "# Split the data\n",
        "X_train, X_test, y_train, y_test = train_test_split(X_seq, y_seq, test_size=0.2, random_state=42)"
      ]
    },
    {
      "cell_type": "code",
      "execution_count": null,
      "metadata": {
        "id": "za68nfKlFpjW"
      },
      "outputs": [],
      "source": [
        "# Build the LSTM model\n",
        "input_shape = X_train.shape[1:]\n",
        "model = Sequential([\n",
        "    LSTM(64, activation='relu', input_shape=input_shape, return_sequences=True),\n",
        "    LSTM(32, activation='relu'),\n",
        "    Dense(len(air_quality_features))\n",
        "])\n"
      ]
    },
    {
      "cell_type": "code",
      "execution_count": null,
      "metadata": {
        "id": "h2qQIdCgFtoU"
      },
      "outputs": [],
      "source": [
        "model.compile(optimizer='adam', loss='mse')\n",
        "model.fit(X_train, y_train, epochs=50, batch_size=32, validation_split=0.1, verbose=1)\n"
      ]
    },
    {
      "cell_type": "code",
      "execution_count": null,
      "metadata": {
        "id": "KelF8Qh2HqMU"
      },
      "outputs": [],
      "source": [
        "# Save the model in SavedModel format (this is the default format)\n",
        "model.save('lstm_hourly_model')\n"
      ]
    },
    {
      "cell_type": "code",
      "execution_count": null,
      "metadata": {
        "id": "wVo3DZ2PIJd6"
      },
      "outputs": [],
      "source": [
        "from datetime import datetime, timedelta\n"
      ]
    },
    {
      "cell_type": "code",
      "execution_count": null,
      "metadata": {
        "id": "JSQFSL_-ISv4"
      },
      "outputs": [],
      "source": [
        "def predict_future(model, preprocessor, last_sequence, station_id, future_datetime, num_hours=24):\n",
        "    # Generate a range of datetimes, starting from the input datetime\n",
        "    future_datetimes = [future_datetime + timedelta(hours=i) for i in range(num_hours)]\n",
        "\n",
        "    # Prepare the input sequence\n",
        "    last_sequence_df = pd.DataFrame(last_sequence, columns=time_features + air_quality_features)\n",
        "    last_sequence_df['StationId'] = station_id\n",
        "\n",
        "    # Transform the last sequence\n",
        "    last_sequence_transformed = preprocessor.transform(last_sequence_df)\n",
        "\n",
        "    # Initialize the sequence for prediction\n",
        "    current_sequence = last_sequence_transformed[-seq_length:]\n",
        "\n",
        "    future_predictions = []\n",
        "\n",
        "    for future_dt in future_datetimes:\n",
        "        # Prepare the input for the next time step\n",
        "        next_input = np.zeros((1, seq_length, current_sequence.shape[1]))\n",
        "        next_input[0, :-1, :] = current_sequence[1:]\n",
        "\n",
        "        # Update time features for the next step\n",
        "        time_features_next = [future_dt.month, future_dt.year, future_dt.hour, future_dt.minute]\n",
        "        next_input[0, -1, :len(time_features)] = preprocessor.named_transformers_['num'].transform([time_features_next + [0]*len(air_quality_features)])[0, :len(time_features)]\n",
        "\n",
        "        # Keep the StationId encoding the same\n",
        "        station_id_cols = preprocessor.named_transformers_['cat'].transform([[station_id]])\n",
        "        next_input[0, -1, len(time_features) + len(air_quality_features):] = station_id_cols\n",
        "\n",
        "        # Make prediction\n",
        "        prediction = model.predict(next_input)\n",
        "\n",
        "        # Store the prediction\n",
        "        future_predictions.append(prediction[0])\n",
        "\n",
        "        # Update the sequence for the next iteration\n",
        "        current_sequence = next_input[0]\n",
        "        current_sequence[-1, len(time_features):-len(station_id_cols[0])] = prediction[0]\n",
        "\n",
        "    # Convert predictions to original scale\n",
        "    future_predictions = np.array(future_predictions)\n",
        "    future_predictions_inv = preprocessor.named_transformers_['num'].inverse_transform(\n",
        "        np.column_stack((np.zeros((len(future_predictions), len(time_features))), future_predictions)))[:, -len(air_quality_features):]\n",
        "\n",
        "    return future_predictions_inv, future_datetimes\n"
      ]
    },
    {
      "cell_type": "code",
      "execution_count": null,
      "metadata": {
        "id": "Cfa_GniNIWY8"
      },
      "outputs": [],
      "source": [
        "# Get user input\n",
        "'''\n",
        "station_id = input(\"Enter StationId: \")\n",
        "future_date = input(\"Enter future Date (YYYY-MM-DD): \")\n",
        "future_time = input(\"Enter future Time (HH:MM:SS): \")'''"
      ]
    },
    {
      "cell_type": "code",
      "execution_count": null,
      "metadata": {
        "id": "zsL8p_I0JcPn"
      },
      "outputs": [],
      "source": [
        "station_id = 'AP001 '\n",
        "future_date = '2024-09-27'\n",
        "future_time = '12:00:00'"
      ]
    },
    {
      "cell_type": "code",
      "execution_count": null,
      "metadata": {
        "id": "zGKB_hC6IX5h"
      },
      "outputs": [],
      "source": [
        "future_datetime = datetime.strptime(f\"{future_date} {future_time}\", \"%Y-%m-%d %H:%M:%S\")\n"
      ]
    },
    {
      "cell_type": "code",
      "execution_count": null,
      "metadata": {
        "id": "zb2SnmusIaSk"
      },
      "outputs": [],
      "source": [
        "last_sequence = df[df['StationId'] == station_id].sort_values('Datetime').iloc[-seq_length:]\n",
        "last_sequence = last_sequence[time_features + air_quality_features].values\n"
      ]
    },
    {
      "cell_type": "code",
      "execution_count": null,
      "metadata": {
        "id": "PN5jr5YWIbmi"
      },
      "outputs": [],
      "source": [
        "future_predictions, prediction_datetimes = predict_future(model, preprocessor, last_sequence, station_id, future_datetime)\n"
      ]
    },
    {
      "cell_type": "code",
      "execution_count": null,
      "metadata": {
        "id": "N1uCvcfNIc1e"
      },
      "outputs": [],
      "source": [
        "future_df = pd.DataFrame(future_predictions, columns=air_quality_features, index=prediction_datetimes)\n"
      ]
    },
    {
      "cell_type": "code",
      "execution_count": null,
      "metadata": {
        "id": "porGgiH_JBRa"
      },
      "outputs": [],
      "source": [
        "print(future_df)\n",
        "\n",
        "# Print the prediction for the specific datetime entered by the user\n",
        "specific_prediction = future_df.loc[future_datetime]\n",
        "print(f\"\\nPrediction for {future_datetime} at station {station_id}:\")\n",
        "for feature, value in specific_prediction.items():\n",
        "    print(f\"{feature}: {value:.2f}\")"
      ]
    }
  ],
  "metadata": {
    "accelerator": "GPU",
    "colab": {
      "gpuType": "T4",
      "provenance": []
    },
    "kernelspec": {
      "display_name": "Python 3",
      "name": "python3"
    },
    "language_info": {
      "codemirror_mode": {
        "name": "ipython",
        "version": 3
      },
      "file_extension": ".py",
      "mimetype": "text/x-python",
      "name": "python",
      "nbconvert_exporter": "python",
      "pygments_lexer": "ipython3",
      "version": "3.11.5"
    }
  },
  "nbformat": 4,
  "nbformat_minor": 0
}
